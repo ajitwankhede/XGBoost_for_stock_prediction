{
 "cells": [
  {
   "cell_type": "code",
   "execution_count": null,
   "id": "50d73120",
   "metadata": {},
   "outputs": [],
   "source": [
    "# # install dependency\n",
    "#!pip install -r requirements.txt"
   ]
  },
  {
   "cell_type": "code",
   "execution_count": null,
   "id": "4b54f52d",
   "metadata": {},
   "outputs": [],
   "source": [
    "## Create virtual environment\n",
    "\n",
    "#check for env\n",
    "import sys\n",
    "print(sys.executable)"
   ]
  },
  {
   "cell_type": "code",
   "execution_count": null,
   "id": "45a698df",
   "metadata": {},
   "outputs": [],
   "source": [
    "# Import libraries\n",
    "import os\n",
    "import numpy as np\n",
    "import pandas as pd\n",
    "import xgboost as xgb\n",
    "import matplotlib.pyplot as plt\n",
    "from xgboost import plot_importance, plot_tree\n",
    "from sklearn.metrics import mean_squared_error\n",
    "from sklearn.preprocessing import MinMaxScaler\n",
    "from sklearn.model_selection import train_test_split, GridSearchCV\n",
    "from statsmodels.tsa.seasonal import seasonal_decompose"
   ]
  },
  {
   "cell_type": "code",
   "execution_count": null,
   "id": "dfdd1e9f",
   "metadata": {},
   "outputs": [],
   "source": [
    "import scipy\n",
    "scipy.__version__\n",
    "\n",
    "import statsmodels\n",
    "statsmodels.__version__"
   ]
  },
  {
   "cell_type": "code",
   "execution_count": null,
   "id": "c6d2ca6e",
   "metadata": {},
   "outputs": [],
   "source": [
    "# Chart drawing\n",
    "import plotly as py\n",
    "import plotly.io as pio\n",
    "import plotly.graph_objects as go\n",
    "from plotly.subplots import make_subplots\n",
    "from plotly.offline import download_plotlyjs, init_notebook_mode, plot, iplot\n",
    "\n",
    "# Mute sklearn warnings\n",
    "from warnings import simplefilter\n",
    "simplefilter(action='ignore', category=FutureWarning)\n",
    "simplefilter(action='ignore', category=DeprecationWarning)\n",
    "\n",
    "# Show charts when running kernel\n",
    "init_notebook_mode(connected=True)\n",
    "\n",
    "# Change default background color for all visualizations\n",
    "layout=go.Layout(paper_bgcolor='rgba(0,0,0,0)', plot_bgcolor='rgba(250,250,250,0.8)')\n",
    "fig = go.Figure(layout=layout)\n",
    "templated_fig = pio.to_templated(fig)\n",
    "pio.templates['my_template'] = templated_fig.layout.template\n",
    "pio.templates.default = 'my_template'"
   ]
  },
  {
   "cell_type": "markdown",
   "id": "b2510a3a",
   "metadata": {},
   "source": [
    "#### Read historical prices\n",
    "\n",
    "I read historical data frame for a chosen stock (e.g. CERN) which I am going to analyze. New York Stock Exchange dataset provides day by day price history gathered over more than 10 years. I decided to crop the time frame and start it from a year 2010 to reduce amount of data to be processed.\n",
    "\n",
    "Removing rows is then followed by reindexing the data frame to keep it clean."
   ]
  },
  {
   "cell_type": "code",
   "execution_count": null,
   "id": "c2ceacf3",
   "metadata": {},
   "outputs": [],
   "source": [
    "ETF_NAME = 'CERN'\n",
    "ETF_DIRECTORY = 'C:/Users/ajitw/Databases/XGBoost_for_stock_prediction_Data/archive/Data/Stocks/'\n",
    "\n",
    "df = pd.read_csv(os.path.join(ETF_DIRECTORY, ETF_NAME.lower() + '.us.txt'), sep=',')\n",
    "\n",
    "df['Date'] = pd.to_datetime(df['Date'])\n",
    "df = df[(df['Date'].dt.year >= 2010)].copy()\n",
    "df.index = range(len(df))\n",
    "\n",
    "df.head()"
   ]
  },
  {
   "cell_type": "markdown",
   "id": "98b086a0",
   "metadata": {},
   "source": [
    "#### OHLC Chart\n",
    "\n",
    "I start with drawing an OHLC (open/high/low/close) chart to get a sense of historical prices.\n",
    "\n",
    "Below OHLC I draw Volume chart which shows number of stocks traded each day.\n"
   ]
  },
  {
   "cell_type": "code",
   "execution_count": null,
   "id": "4fe83f17",
   "metadata": {},
   "outputs": [],
   "source": [
    "fig = make_subplots(rows=2, cols=1)\n",
    "\n",
    "fig.add_trace(go.Ohlc(x=df.Date,\n",
    "                      open=df.Open,\n",
    "                      high=df.High,\n",
    "                      low=df.Low,\n",
    "                      close=df.Close,\n",
    "                      name='Price'), row=1, col=1)\n",
    "\n",
    "fig.add_trace(go.Scatter(x=df.Date, y=df.Volume, name='Volume'), row=2, col=1)\n",
    "\n",
    "fig.update(layout_xaxis_rangeslider_visible=False)\n",
    "fig.show()"
   ]
  },
  {
   "cell_type": "markdown",
   "id": "83f044ad",
   "metadata": {},
   "source": [
    "#### Decomposition"
   ]
  },
  {
   "cell_type": "code",
   "execution_count": null,
   "id": "4430a604",
   "metadata": {},
   "outputs": [],
   "source": [
    "df_close = df[['Date', 'Close']].copy()\n",
    "df_close = df_close.set_index('Date')\n",
    "df_close.head()\n",
    "\n",
    "#decomp = decompose(df_close, period=365)\n",
    "decomp = seasonal_decompose(df_close, period=365)\n",
    "fig = decomp.plot()\n",
    "fig.set_size_inches(20, 8)"
   ]
  },
  {
   "cell_type": "markdown",
   "id": "8b688328",
   "metadata": {},
   "source": [
    "#### Technical indicators"
   ]
  },
  {
   "cell_type": "markdown",
   "id": "1fb8ce44",
   "metadata": {},
   "source": [
    "##### Moving Averages\n",
    "I'm calculating few moving averages to be used as features:  SMA5\n",
    " ,  SMA10\n",
    " ,  SMA15\n",
    " ,  SMA30\n",
    "  and  EMA9\n",
    " ."
   ]
  },
  {
   "cell_type": "code",
   "execution_count": null,
   "id": "31b0f345",
   "metadata": {},
   "outputs": [],
   "source": [
    "df['EMA_9'] = df['Close'].ewm(9).mean().shift()\n",
    "df['SMA_5'] = df['Close'].rolling(5).mean().shift()\n",
    "df['SMA_10'] = df['Close'].rolling(10).mean().shift()\n",
    "df['SMA_15'] = df['Close'].rolling(15).mean().shift()\n",
    "df['SMA_30'] = df['Close'].rolling(30).mean().shift()\n",
    "\n",
    "fig = go.Figure()\n",
    "fig.add_trace(go.Scatter(x=df.Date, y=df.EMA_9, name='EMA 9'))\n",
    "fig.add_trace(go.Scatter(x=df.Date, y=df.SMA_5, name='SMA 5'))\n",
    "fig.add_trace(go.Scatter(x=df.Date, y=df.SMA_10, name='SMA 10'))\n",
    "fig.add_trace(go.Scatter(x=df.Date, y=df.SMA_15, name='SMA 15'))\n",
    "fig.add_trace(go.Scatter(x=df.Date, y=df.SMA_30, name='SMA 30'))\n",
    "fig.add_trace(go.Scatter(x=df.Date, y=df.Close, name='Close', opacity=0.2))\n",
    "fig.show()"
   ]
  },
  {
   "cell_type": "markdown",
   "id": "59d0366d",
   "metadata": {},
   "source": [
    "#### Relative Strength Index\n",
    "\n",
    "I'll add RSI indicator to predict whether a stock is overbought/oversold."
   ]
  },
  {
   "cell_type": "code",
   "execution_count": null,
   "id": "d7187441",
   "metadata": {},
   "outputs": [],
   "source": [
    "def relative_strength_idx(df, n=14):\n",
    "    close = df['Close']\n",
    "    delta = close.diff()\n",
    "    delta = delta[1:]\n",
    "    pricesUp = delta.copy()\n",
    "    pricesDown = delta.copy()\n",
    "    pricesUp[pricesUp < 0] = 0\n",
    "    pricesDown[pricesDown > 0] = 0\n",
    "    rollUp = pricesUp.rolling(n).mean()\n",
    "    rollDown = pricesDown.abs().rolling(n).mean()\n",
    "    rs = rollUp / rollDown\n",
    "    rsi = 100.0 - (100.0 / (1.0 + rs))\n",
    "    return rsi\n",
    "\n",
    "df['RSI'] = relative_strength_idx(df).fillna(0)\n",
    "\n",
    "fig = go.Figure(go.Scatter(x=df.Date, y=df.RSI, name='RSI'))\n",
    "fig.show()\n"
   ]
  },
  {
   "cell_type": "markdown",
   "id": "498af1a0",
   "metadata": {},
   "source": [
    "#### MACD"
   ]
  },
  {
   "cell_type": "code",
   "execution_count": null,
   "id": "9db70c3c",
   "metadata": {},
   "outputs": [],
   "source": [
    "EMA_12 = pd.Series(df['Close'].ewm(span=12, min_periods=12).mean())\n",
    "EMA_26 = pd.Series(df['Close'].ewm(span=26, min_periods=26).mean())\n",
    "df['MACD'] = pd.Series(EMA_12 - EMA_26)\n",
    "df['MACD_signal'] = pd.Series(df.MACD.ewm(span=9, min_periods=9).mean())\n",
    "\n",
    "fig = make_subplots(rows=2, cols=1)\n",
    "fig.add_trace(go.Scatter(x=df.Date, y=df.Close, name='Close'), row=1, col=1)\n",
    "fig.add_trace(go.Scatter(x=df.Date, y=EMA_12, name='EMA 12'), row=1, col=1)\n",
    "fig.add_trace(go.Scatter(x=df.Date, y=EMA_26, name='EMA 26'), row=1, col=1)\n",
    "fig.add_trace(go.Scatter(x=df.Date, y=df['MACD'], name='MACD'), row=2, col=1)\n",
    "fig.add_trace(go.Scatter(x=df.Date, y=df['MACD_signal'], name='Signal line'), row=2, col=1)\n",
    "fig.show()"
   ]
  },
  {
   "cell_type": "markdown",
   "id": "1d9bb4b5",
   "metadata": {},
   "source": [
    "#### Shift label column\n",
    "\n",
    "Because I want to predict the next day price, after calculating all features for day  Di\n",
    " , I shift Close price column by -1 rows. After doing that, for day  Di\n",
    "  we have features from the same timestamp e.g.  RSIi\n",
    " , but the price  Ci+1\n",
    "  from upcoming day."
   ]
  },
  {
   "cell_type": "code",
   "execution_count": null,
   "id": "ea630163",
   "metadata": {},
   "outputs": [],
   "source": [
    "df['Close'] = df['Close'].shift(-1)"
   ]
  },
  {
   "cell_type": "markdown",
   "id": "f8dfbae1",
   "metadata": {},
   "source": [
    "#### Drop invalid samples\n",
    "\n",
    "Because of calculating moving averages and shifting label column, few rows will have invalid values i.e. we haven't calculated  SMA10\n",
    "  for the first 10 days. Moreover, after shifting Close price column, last row price is equal to 0 which is not true. Removing these samples should help."
   ]
  },
  {
   "cell_type": "code",
   "execution_count": null,
   "id": "b0239941",
   "metadata": {},
   "outputs": [],
   "source": [
    "df = df.iloc[33:] # Because of moving averages and MACD line\n",
    "df = df[:-1]      # Because of shifting close price\n",
    "\n",
    "df.index = range(len(df))"
   ]
  },
  {
   "cell_type": "markdown",
   "id": "7a1420c5",
   "metadata": {},
   "source": [
    "Here I split stock data frame into three subsets: training ( 70%\n",
    " ), validation ( 15%\n",
    " ) and test ( 15%\n",
    " ) sets. I calculated split indices and create three separate frames (train_df, valid_df, test_df). All three frames have been ploted in the chart below."
   ]
  },
  {
   "cell_type": "code",
   "execution_count": null,
   "id": "53ace7f5",
   "metadata": {},
   "outputs": [],
   "source": [
    "test_size  = 0.15\n",
    "valid_size = 0.15\n",
    "\n",
    "test_split_idx  = int(df.shape[0] * (1-test_size))\n",
    "valid_split_idx = int(df.shape[0] * (1-(valid_size+test_size)))\n",
    "\n",
    "train_df  = df.loc[:valid_split_idx].copy()\n",
    "valid_df  = df.loc[valid_split_idx+1:test_split_idx].copy()\n",
    "test_df   = df.loc[test_split_idx+1:].copy()\n",
    "\n",
    "fig = go.Figure()\n",
    "fig.add_trace(go.Scatter(x=train_df.Date, y=train_df.Close, name='Training'))\n",
    "fig.add_trace(go.Scatter(x=valid_df.Date, y=valid_df.Close, name='Validation'))\n",
    "fig.add_trace(go.Scatter(x=test_df.Date,  y=test_df.Close,  name='Test'))\n",
    "fig.show()"
   ]
  },
  {
   "cell_type": "markdown",
   "id": "1f045701",
   "metadata": {},
   "source": [
    "#### Drop unnecessary columns"
   ]
  },
  {
   "cell_type": "code",
   "execution_count": null,
   "id": "d0dcdf97",
   "metadata": {},
   "outputs": [],
   "source": [
    "drop_cols = ['Date', 'Volume', 'Open', 'Low', 'High', 'OpenInt']\n",
    "\n",
    "train_df = train_df.drop(drop_cols, axis=1)\n",
    "valid_df = valid_df.drop(drop_cols, axis=1)\n",
    "test_df  = test_df.drop(drop_cols, axis=1)"
   ]
  },
  {
   "cell_type": "markdown",
   "id": "d60bae36",
   "metadata": {},
   "source": [
    "#### Split into features and labels"
   ]
  },
  {
   "cell_type": "code",
   "execution_count": null,
   "id": "89f8f0ef",
   "metadata": {},
   "outputs": [],
   "source": [
    "y_train = train_df['Close'].copy()\n",
    "X_train = train_df.drop(['Close'], axis=1)\n",
    "\n",
    "y_valid = valid_df['Close'].copy()\n",
    "X_valid = valid_df.drop(['Close'], axis=1)\n",
    "\n",
    "y_test  = test_df['Close'].copy()\n",
    "X_test  = test_df.drop(['Close'], axis=1)\n",
    "\n",
    "X_train.info()\n"
   ]
  },
  {
   "cell_type": "markdown",
   "id": "27d112eb",
   "metadata": {},
   "source": [
    "### Fine-tune XGBoostRegressor"
   ]
  },
  {
   "cell_type": "code",
   "execution_count": null,
   "id": "2d75ab99",
   "metadata": {},
   "outputs": [],
   "source": [
    "%time\n",
    "\n",
    "parameters = {\n",
    "    'n_estimators': [100, 200, 300, 400],\n",
    "    'learning_rate': [0.001, 0.005, 0.01, 0.05],\n",
    "    'max_depth': [8, 10, 12, 15],\n",
    "    'gamma': [0.001, 0.005, 0.01, 0.02],\n",
    "    'random_state': [42],\n",
    "    }\n",
    "\n",
    "eval_set = [(X_train, y_train), (X_valid, y_valid)]\n",
    "\n",
    "model = xgb.XGBRegressor( eval_set=eval_set, objective='reg:squarederror', verbosity=0)\n",
    "clf = GridSearchCV(model, parameters)\n",
    "\n",
    "clf.fit(X_train, y_train)\n",
    "\n",
    "print(f'Best params: {clf.best_params_}')\n",
    "print(f'Best validation score = {clf.best_score_}')"
   ]
  },
  {
   "cell_type": "code",
   "execution_count": null,
   "id": "078e3392",
   "metadata": {},
   "outputs": [],
   "source": [
    "%%time\n",
    "\n",
    "model = xgb.XGBRegressor(**clf.best_params_, objective='reg:squarederror')\n",
    "model.fit(X_train, y_train, eval_set=eval_set, verbose=0)"
   ]
  },
  {
   "cell_type": "markdown",
   "id": "e31ab12f",
   "metadata": {},
   "source": [
    "#### Calculate and visualize predictions"
   ]
  },
  {
   "cell_type": "code",
   "execution_count": null,
   "id": "330d91f2",
   "metadata": {},
   "outputs": [],
   "source": [
    "y_pred = model.predict(X_test)\n",
    "print(f'y_true = {np.array(y_test)[:5]}')\n",
    "print(f'y_pred = {y_pred[:5]}')"
   ]
  },
  {
   "cell_type": "code",
   "execution_count": null,
   "id": "ea42a4bf",
   "metadata": {},
   "outputs": [],
   "source": [
    "print(f'mean_squared_error = {mean_squared_error(y_test, y_pred)}')"
   ]
  },
  {
   "cell_type": "code",
   "execution_count": null,
   "id": "ba9c0462",
   "metadata": {},
   "outputs": [],
   "source": [
    "predicted_prices = df.loc[test_split_idx+1:].copy()\n",
    "predicted_prices['Close'] = y_pred\n",
    "\n",
    "fig = make_subplots(rows=2, cols=1)\n",
    "fig.add_trace(go.Scatter(x=df.Date, y=df.Close,\n",
    "                         name='Truth',\n",
    "                         marker_color='LightSkyBlue'), row=1, col=1)\n",
    "\n",
    "fig.add_trace(go.Scatter(x=predicted_prices.Date,\n",
    "                         y=predicted_prices.Close,\n",
    "                         name='Prediction',\n",
    "                         marker_color='MediumPurple'), row=1, col=1)\n",
    "\n",
    "fig.add_trace(go.Scatter(x=predicted_prices.Date,\n",
    "                         y=y_test,\n",
    "                         name='Truth',\n",
    "                         marker_color='LightSkyBlue',\n",
    "                         showlegend=False), row=2, col=1)\n",
    "\n",
    "fig.add_trace(go.Scatter(x=predicted_prices.Date,\n",
    "                         y=y_pred,\n",
    "                         name='Prediction',\n",
    "                         marker_color='MediumPurple',\n",
    "                         showlegend=False), row=2, col=1)\n",
    "\n",
    "fig.show()"
   ]
  },
  {
   "cell_type": "code",
   "execution_count": null,
   "id": "357e5edb",
   "metadata": {},
   "outputs": [],
   "source": [
    "# thank you"
   ]
  },
  {
   "cell_type": "code",
   "execution_count": null,
   "id": "967f3743",
   "metadata": {},
   "outputs": [],
   "source": []
  }
 ],
 "metadata": {
  "kernelspec": {
   "display_name": "Python 3 (ipykernel)",
   "language": "python",
   "name": "python3"
  },
  "language_info": {
   "codemirror_mode": {
    "name": "ipython",
    "version": 3
   },
   "file_extension": ".py",
   "mimetype": "text/x-python",
   "name": "python",
   "nbconvert_exporter": "python",
   "pygments_lexer": "ipython3",
   "version": "3.10.9"
  }
 },
 "nbformat": 4,
 "nbformat_minor": 5
}
